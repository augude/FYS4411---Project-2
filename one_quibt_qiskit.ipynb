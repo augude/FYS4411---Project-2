{
 "cells": [
  {
   "cell_type": "code",
   "execution_count": 32,
   "metadata": {},
   "outputs": [],
   "source": [
    "import numpy as np\n",
    "import matplotlib.pyplot as plt\n",
    "import seaborn as sns\n",
    "sns.set_theme(font_scale=1.5)\n",
    "from tqdm import tqdm\n",
    "\n",
    "from qiskit import QuantumCircuit, Aer\n",
    "from qiskit.algorithms import VQE\n",
    "from qiskit.opflow import X, Z, I, Y, AerPauliExpectation, PauliSumOp\n",
    "from qiskit.circuit import Parameter\n",
    "from qiskit.algorithms.optimizers import ADAM\n",
    "\n",
    "from src.utils import write_to_csv\n",
    "from qiskit_ibm_runtime import QiskitRuntimeService\n",
    "from qiskit.providers.ibmq import least_busy\n",
    "from qiskit.utils import QuantumInstance\n"
   ]
  },
  {
   "cell_type": "code",
   "execution_count": 39,
   "metadata": {},
   "outputs": [],
   "source": [
    "def prepare_state():\n",
    "    theta = Parameter('theta')\n",
    "    phi = Parameter('phi')\n",
    "    QC = QuantumCircuit(1)\n",
    "    QC.rx(2*(theta-np.pi/2),0)\n",
    "    QC.ry(2*(phi-np.pi/2),0)\n",
    "    return QC\n",
    "\n",
    "def Hamiltonian(lmb):\n",
    "    E1 = 0\n",
    "    E2 = 4\n",
    "    V11 = 3\n",
    "    V22 = -3\n",
    "    V12 = 0.2\n",
    "    V21 = 0.2\n",
    "\n",
    "    eps = (E1 + E2) / 2\n",
    "    omega = (E1 - E2) / 2\n",
    "    c = (V11 + V22) / 2\n",
    "    omega_z = (V11 - V22) / 2\n",
    "    omega_x = V12\n",
    "\n",
    "    # H = eps * I + omega * Z + lmb * (c * I + omega_z * Z + omega_x * X)    \n",
    "    H = PauliSumOp.from_list([('I', eps + lmb*c), ('Z', omega + lmb*omega_z), \n",
    "                              ('X', lmb*omega_x)])\n",
    "\n",
    "    return H"
   ]
  },
  {
   "cell_type": "code",
   "execution_count": 52,
   "metadata": {},
   "outputs": [
    {
     "ename": "IBMQAccountCredentialsNotFound",
     "evalue": "'No IBM Quantum Experience credentials found.'",
     "output_type": "error",
     "traceback": [
      "\u001b[1;31m---------------------------------------------------------------------------\u001b[0m",
      "\u001b[1;31mIBMQAccountCredentialsNotFound\u001b[0m            Traceback (most recent call last)",
      "\u001b[1;32mc:\\Users\\augus\\OneDrive - Universitetet i Oslo\\Documents\\UiO\\V23\\FYS4411\\FYS4411---Project-2\\one_quibt_qiskit.ipynb Cell 3\u001b[0m in \u001b[0;36m<cell line: 2>\u001b[1;34m()\u001b[0m\n\u001b[0;32m      <a href='vscode-notebook-cell:/c%3A/Users/augus/OneDrive%20-%20Universitetet%20i%20Oslo/Documents/UiO/V23/FYS4411/FYS4411---Project-2/one_quibt_qiskit.ipynb#W6sZmlsZQ%3D%3D?line=0'>1</a>\u001b[0m \u001b[39mfrom\u001b[39;00m \u001b[39mqiskit\u001b[39;00m \u001b[39mimport\u001b[39;00m IBMQ\n\u001b[1;32m----> <a href='vscode-notebook-cell:/c%3A/Users/augus/OneDrive%20-%20Universitetet%20i%20Oslo/Documents/UiO/V23/FYS4411/FYS4411---Project-2/one_quibt_qiskit.ipynb#W6sZmlsZQ%3D%3D?line=1'>2</a>\u001b[0m IBMQ\u001b[39m.\u001b[39;49mload_account()\n\u001b[0;32m      <a href='vscode-notebook-cell:/c%3A/Users/augus/OneDrive%20-%20Universitetet%20i%20Oslo/Documents/UiO/V23/FYS4411/FYS4411---Project-2/one_quibt_qiskit.ipynb#W6sZmlsZQ%3D%3D?line=2'>3</a>\u001b[0m provider \u001b[39m=\u001b[39m QiskitRuntimeService(channel\u001b[39m=\u001b[39m\u001b[39m'\u001b[39m\u001b[39mibm_quantum\u001b[39m\u001b[39m'\u001b[39m)\n",
      "File \u001b[1;32mc:\\Users\\augus\\anaconda3\\lib\\site-packages\\qiskit\\providers\\ibmq\\ibmqfactory.py:167\u001b[0m, in \u001b[0;36mIBMQFactory.load_account\u001b[1;34m(self)\u001b[0m\n\u001b[0;32m    164\u001b[0m credentials_list \u001b[39m=\u001b[39m \u001b[39mlist\u001b[39m(stored_credentials\u001b[39m.\u001b[39mvalues())\n\u001b[0;32m    166\u001b[0m \u001b[39mif\u001b[39;00m \u001b[39mnot\u001b[39;00m credentials_list:\n\u001b[1;32m--> 167\u001b[0m     \u001b[39mraise\u001b[39;00m IBMQAccountCredentialsNotFound(\n\u001b[0;32m    168\u001b[0m         \u001b[39m'\u001b[39m\u001b[39mNo IBM Quantum Experience credentials found.\u001b[39m\u001b[39m'\u001b[39m)\n\u001b[0;32m    170\u001b[0m \u001b[39mif\u001b[39;00m \u001b[39mlen\u001b[39m(credentials_list) \u001b[39m>\u001b[39m \u001b[39m1\u001b[39m:\n\u001b[0;32m    171\u001b[0m     \u001b[39mraise\u001b[39;00m IBMQAccountMultipleCredentialsFound(\n\u001b[0;32m    172\u001b[0m         \u001b[39m'\u001b[39m\u001b[39mMultiple IBM Quantum Experience credentials found. \u001b[39m\u001b[39m'\u001b[39m \u001b[39m+\u001b[39m UPDATE_ACCOUNT_TEXT)\n",
      "\u001b[1;31mIBMQAccountCredentialsNotFound\u001b[0m: 'No IBM Quantum Experience credentials found.'"
     ]
    }
   ],
   "source": [
    "from qiskit import IBMQ\n",
    "IBMQ.load_account()\n",
    "provider = QiskitRuntimeService(channel='ibm_quantum')"
   ]
  },
  {
   "cell_type": "code",
   "execution_count": 53,
   "metadata": {},
   "outputs": [
    {
     "name": "stdout",
     "output_type": "stream",
     "text": [
      "[<IBMBackend('ibmq_belem')>, <IBMBackend('ibm_lagos')>, <IBMBackend('simulator_stabilizer')>, <IBMBackend('ibm_oslo')>, <IBMBackend('ibmq_quito')>, <IBMBackend('simulator_mps')>, <IBMBackend('ibmq_manila')>, <IBMBackend('ibm_perth')>, <IBMBackend('ibmq_jakarta')>, <IBMBackend('ibmq_qasm_simulator')>, <IBMBackend('ibmq_lima')>, <IBMBackend('simulator_extended_stabilizer')>, <IBMBackend('simulator_statevector')>, <IBMBackend('ibm_nairobi')>]\n"
     ]
    }
   ],
   "source": [
    "print(provider.backends())"
   ]
  },
  {
   "cell_type": "code",
   "execution_count": 55,
   "metadata": {},
   "outputs": [],
   "source": [
    "def get_energy_qiskit(experiment, n_points):\n",
    "    if experiment == 'simulate':\n",
    "        instance = Aer.get_backend('qasm_simulator')\n",
    "        filename = 'data/simulate'\n",
    "        expecation = AerPauliExpectation()\n",
    "    elif experiment == 'real':\n",
    "        backend = least_busy(provider.backends(filters=lambda x: x.configuration().n_qubits >= 4 and \n",
    "                                                     not x.configuration().simulator and x.status().operational==True))\n",
    "        # backend = provider.get_backend('ibm_oslo')\n",
    "        shots = 1024\n",
    "        instance = QuantumInstance(backend, shots=shots)\n",
    "        filename = f'data/real_{backend.name}'\n",
    "        expecation = None\n",
    "        print(f'Running on backend: {backend.name}')\n",
    "    else:\n",
    "        raise ValueError('experiment must be either \"simulate\" or \"real\"')\n",
    "\n",
    "    adam = ADAM(maxiter=10_000) #optimizer for VQE\n",
    "    lmbvalues_qk = range(n_points)\n",
    "    min_energy_qk = np.zeros(n_points)\n",
    "    for index, lmb in enumerate(tqdm(lmbvalues_qk)):\n",
    "        lmb = lmb/n_points\n",
    "        H = Hamiltonian(lmb)\n",
    "        # H = X\n",
    "        # H = PauliSumOp.from_list([(\"X\", -1), (\"X\", -1), (\"X\", -1), (\"Z\", -1)])\n",
    "        init_point = np.random.uniform(low = 0, high = np.pi, size = 2)\n",
    "        vqe = VQE(ansatz=prepare_state(), optimizer=adam, initial_point=init_point, \n",
    "                    quantum_instance=instance, expectation=expecation)\n",
    "        result = vqe.compute_minimum_eigenvalue(H)\n",
    "        min_energy_qk[index] = result.eigenvalue.real\n",
    "    lmbvalues_qk = np.linspace(0, 1 - 1/n_points, n_points)\n",
    "    write_to_csv(lmbvalues_qk, min_energy_qk, filename=filename, header='lmb,energy')"
   ]
  },
  {
   "cell_type": "code",
   "execution_count": 62,
   "metadata": {},
   "outputs": [
    {
     "name": "stderr",
     "output_type": "stream",
     "text": [
      " 30%|███       | 3/10 [00:38<01:25, 12.25s/it]"
     ]
    }
   ],
   "source": [
    "get_energy_qiskit('simulate', n_points = 10)"
   ]
  },
  {
   "cell_type": "code",
   "execution_count": 60,
   "metadata": {},
   "outputs": [
    {
     "data": {
      "image/png": "[encoded data removed]",
      "text/plain": [
       "<Figure size 720x432 with 1 Axes>"
      ]
     },
     "metadata": {},
     "output_type": "display_data"
    }
   ],
   "source": [
    "import pandas as pd\n",
    "\n",
    "df = pd.read_csv('data/simulate.csv')\n",
    "#rename the columns \n",
    "df.columns = ['lmb', 'energy']\n",
    "fig, axs = plt.subplots(1, 1, figsize=(10, 6))\n",
    "axs.plot(df['lmb'], df['energy'], label='Qiskit', marker = 'o')\n",
    "axs.set_xlabel(r'$\\lambda$')\n",
    "axs.set_ylabel('Energy')\n",
    "axs.legend()\n",
    "plt.show()"
   ]
  },
  {
   "cell_type": "code",
   "execution_count": 13,
   "metadata": {},
   "outputs": [
    {
     "name": "stdout",
     "output_type": "stream",
     "text": [
      "<IBMBackend('ibmq_lima')>\n"
     ]
    }
   ],
   "source": [
    "\n",
    "# # Save an IBM Quantum account.\n",
    "# from qiskit import *\n",
    "\n",
    "from qiskit import IBMQ\n",
    "# QiskitRuntimeService.save_account(channel='ibm_quantum', token='cf601c2a41f6b0f0fe8030c8a8c30fd4d5d9d3a4c04f3d4bb070ff7fa4a02de73998a1c22b3db1e211d536e8a02158464d27e78082220cf557267830887dcb07')\n",
    "\n",
    "# print the least busy backend\n",
    "print(backend)"
   ]
  }
 ],
 "metadata": {
  "kernelspec": {
   "display_name": "base",
   "language": "python",
   "name": "python3"
  },
  "language_info": {
   "codemirror_mode": {
    "name": "ipython",
    "version": 3
   },
   "file_extension": ".py",
   "mimetype": "text/x-python",
   "name": "python",
   "nbconvert_exporter": "python",
   "pygments_lexer": "ipython3",
   "version": "3.9.7"
  },
  "orig_nbformat": 4
 },
 "nbformat": 4,
 "nbformat_minor": 2
}
